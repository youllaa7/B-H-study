{
  "nbformat": 4,
  "nbformat_minor": 0,
  "metadata": {
    "colab": {
      "name": "Chapter5.ipynb",
      "provenance": [],
      "authorship_tag": "ABX9TyMTjBrN3YN2BvRQEqAEWc+d",
      "include_colab_link": true
    },
    "kernelspec": {
      "name": "python3",
      "display_name": "Python 3"
    }
  },
  "cells": [
    {
      "cell_type": "markdown",
      "metadata": {
        "id": "view-in-github",
        "colab_type": "text"
      },
      "source": [
        "<a href=\"https://colab.research.google.com/github/youllaa7/B-H-study/blob/main/Chapter5.ipynb\" target=\"_parent\"><img src=\"https://colab.research.google.com/assets/colab-badge.svg\" alt=\"Open In Colab\"/></a>"
      ]
    },
    {
      "cell_type": "code",
      "metadata": {
        "id": "3L-9J_DHwP-A"
      },
      "source": [
        ""
      ],
      "execution_count": null,
      "outputs": []
    },
    {
      "cell_type": "markdown",
      "metadata": {
        "id": "ez6-71zXwp2e"
      },
      "source": [
        "CHAPTER 5. 금융에서의 머신러닝\n",
        "\n",
        "머신러닝을 구현할 때 알아야 하는 기본적인 내용에 대한 설명\n",
        "\n",
        "- 머신러닝 알고리즘이란?\n",
        "  \n",
        "  학술적이지도 엄격하지도 못하지만, 상대적으로 근래에 등장한 '딥러닝'과 구분하기 위해사용\n",
        "\n",
        "- 데이터 전치리\n",
        "   \n",
        "   노이즈가 유달리 많은 금융 데이터를 좀 더 효과적으로 활용하기 위한 노이즈 제거 방법 소개\n",
        "- 평가\n",
        "\n",
        "   교차검증에대한 내용과 좀 더 정확한 지표 활용을 위한 팁\n",
        "- 백테스팅\n",
        "\n",
        "  아직 해결되지 못한 영역(논란많음)\n",
        "\n",
        "  \n",
        "\n",
        "\n"
      ]
    }
  ]
}